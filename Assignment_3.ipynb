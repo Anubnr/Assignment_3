{
 "cells": [
  {
   "cell_type": "raw",
   "id": "4867a0e4",
   "metadata": {},
   "source": [
    "1. Why are functions advantageous to have in your programs?\n",
    "\n",
    "Functions reduces the need for duplicate code. This saves time for the programmer, makes program shorter and easier to read."
   ]
  },
  {
   "cell_type": "raw",
   "id": "909cc735",
   "metadata": {},
   "source": [
    "2. When does the code in a function run: when it's specified or when it's called?\n",
    "    \n",
    "    The code in a function runs when it's called."
   ]
  },
  {
   "cell_type": "raw",
   "id": "79054656",
   "metadata": {},
   "source": [
    "3. What statement creates a function?\n",
    "\n",
    "    Using def keyword we can create a function.\n",
    "    \n",
    "        def fun_name(arguments):"
   ]
  },
  {
   "cell_type": "raw",
   "id": "1dda184c",
   "metadata": {},
   "source": [
    "4. What is the difference between a function and a function call?\n",
    "\n",
    "    A function is a piece of code that we write to perform a specific task.\n",
    "    A function call is calling/invoking of an already existing function to perform a task."
   ]
  },
  {
   "cell_type": "raw",
   "id": "977a5972",
   "metadata": {},
   "source": [
    "5. How many global scopes are there in a Python program? How many local scopes?\n",
    "\n",
    "There's only one Global scope per Python program execution. This scope remainsin existence untill the program terminates and all it's names are forgotten.\n",
    "A variable created inside a function belongs to a local scope of that function, and can only be used inside that function."
   ]
  },
  {
   "cell_type": "raw",
   "id": "47270471",
   "metadata": {},
   "source": [
    "6.  What happens to variables in a local scope when the function call returns?\n",
    "\n",
    "A variable retains it's value untill the next time the function is called. A local variable becomes undefined after the function call completes."
   ]
  },
  {
   "cell_type": "raw",
   "id": "661a84bc",
   "metadata": {},
   "source": [
    "7.  What is the concept of a return value? Is it possible to have a return value in an expression?\n",
    "\n",
    "A return value is a function's result given when return statement is used inside a function. Yes, it is possible to use return value in an expression"
   ]
  },
  {
   "cell_type": "raw",
   "id": "a8495c73",
   "metadata": {},
   "source": [
    "8. If a function does not have a return statement, what is the return value of a call to that function?\n",
    "\n",
    "If a function does not have a return statement, it returns none."
   ]
  },
  {
   "cell_type": "raw",
   "id": "8fb27772",
   "metadata": {},
   "source": [
    "9. How do you make a function variable refer to the global variable?\n",
    "\n",
    "We use global keyword to use a global variable inside a function. "
   ]
  },
  {
   "cell_type": "raw",
   "id": "991fed35",
   "metadata": {},
   "source": [
    "10. What is the data type of None?\n",
    "\n",
    "The None keyword is used to define a null value. None is datatype of the class NoneType object. "
   ]
  },
  {
   "cell_type": "raw",
   "id": "b5fe8060",
   "metadata": {},
   "source": [
    "11. What does the sentence import areallyourpetsnamederic do?\n",
    "\n",
    "It imports a module named areallyourpetsnamederic."
   ]
  },
  {
   "cell_type": "raw",
   "id": "3902116c",
   "metadata": {},
   "source": [
    "12. If you had a bacon() feature in a spam module, what would you call it after importing spam?\n",
    "\n",
    "When we had a bacon() feature in a spam module, it can be called with spam.becon()."
   ]
  },
  {
   "cell_type": "raw",
   "id": "102321e6",
   "metadata": {},
   "source": [
    "13. What can you do to save a programme from crashing if it encounters an error?\n",
    "\n",
    "When we have a doubt that a piece code may crash the program, we can place the line of code in a try clause. "
   ]
  },
  {
   "cell_type": "raw",
   "id": "c2fe9760",
   "metadata": {},
   "source": [
    "14. What is the purpose of the try clause? What is the purpose of the except clause?\n",
    "\n",
    "try clause can be used when a code could potentially cause an error. The code that executes if an error happens goes inthe except clause. "
   ]
  },
  {
   "cell_type": "raw",
   "id": "85eb65ba",
   "metadata": {},
   "source": []
  },
  {
   "cell_type": "raw",
   "id": "77abdeaa",
   "metadata": {},
   "source": []
  },
  {
   "cell_type": "code",
   "execution_count": null,
   "id": "ba4f2bda",
   "metadata": {},
   "outputs": [],
   "source": []
  },
  {
   "cell_type": "code",
   "execution_count": null,
   "id": "64357429",
   "metadata": {},
   "outputs": [],
   "source": []
  }
 ],
 "metadata": {
  "kernelspec": {
   "display_name": "Python 3 (ipykernel)",
   "language": "python",
   "name": "python3"
  },
  "language_info": {
   "codemirror_mode": {
    "name": "ipython",
    "version": 3
   },
   "file_extension": ".py",
   "mimetype": "text/x-python",
   "name": "python",
   "nbconvert_exporter": "python",
   "pygments_lexer": "ipython3",
   "version": "3.9.7"
  }
 },
 "nbformat": 4,
 "nbformat_minor": 5
}
